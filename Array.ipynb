{
  "nbformat": 4,
  "nbformat_minor": 0,
  "metadata": {
    "colab": {
      "provenance": [],
      "authorship_tag": "ABX9TyNaYnL0mYw2yjn99ynHRaKV",
      "include_colab_link": true
    },
    "kernelspec": {
      "name": "python3",
      "display_name": "Python 3"
    },
    "language_info": {
      "name": "python"
    }
  },
  "cells": [
    {
      "cell_type": "markdown",
      "metadata": {
        "id": "view-in-github",
        "colab_type": "text"
      },
      "source": [
        "<a href=\"https://colab.research.google.com/github/j1b2c3/algorithm/blob/main/Array.ipynb\" target=\"_parent\"><img src=\"https://colab.research.google.com/assets/colab-badge.svg\" alt=\"Open In Colab\"/></a>"
      ]
    },
    {
      "cell_type": "code",
      "source": [
        "i = 1\n",
        "f = 2.22\n",
        "c = 'c'\n",
        "s = \"string\"\n",
        "b = True\n",
        "print(i)\n",
        "print(s)\n"
      ],
      "metadata": {
        "colab": {
          "base_uri": "https://localhost:8080/"
        },
        "id": "oz7bucNGXDzp",
        "outputId": "bb469353-953e-46f6-fef2-6079f5378952"
      },
      "execution_count": null,
      "outputs": [
        {
          "output_type": "stream",
          "name": "stdout",
          "text": [
            "1\n",
            "string\n"
          ]
        }
      ]
    },
    {
      "cell_type": "code",
      "source": [
        "i = input()\n",
        "s = input()\n",
        "print(i)\n",
        "print(s)"
      ],
      "metadata": {
        "colab": {
          "base_uri": "https://localhost:8080/"
        },
        "id": "xCJaQgmrckay",
        "outputId": "14fcc65e-f124-4113-a9ff-a611c12c8c1b"
      },
      "execution_count": null,
      "outputs": [
        {
          "output_type": "stream",
          "name": "stdout",
          "text": [
            "123\n",
            "123\n",
            "123\n",
            "123\n"
          ]
        }
      ]
    },
    {
      "cell_type": "code",
      "source": [
        "i = input()\n",
        "s = input()\n",
        "print(i + s)"
      ],
      "metadata": {
        "colab": {
          "base_uri": "https://localhost:8080/"
        },
        "id": "0U0VJm93dT7P",
        "outputId": "d7bab9f6-8482-4a3d-9914-cedd9b0afca0"
      },
      "execution_count": null,
      "outputs": [
        {
          "output_type": "stream",
          "name": "stdout",
          "text": [
            "123\n",
            "1234\n",
            "1231234\n"
          ]
        }
      ]
    },
    {
      "cell_type": "code",
      "source": [
        "i = input()\n",
        "x = int(i)\n",
        "print(x+1)\n",
        "s = str(x)\n",
        "print(s)"
      ],
      "metadata": {
        "colab": {
          "base_uri": "https://localhost:8080/"
        },
        "id": "WqUAfkD7dbSH",
        "outputId": "4246a078-6698-49cb-e0a3-59ff08684276"
      },
      "execution_count": null,
      "outputs": [
        {
          "output_type": "stream",
          "name": "stdout",
          "text": [
            "123\n",
            "124\n",
            "123\n"
          ]
        }
      ]
    },
    {
      "cell_type": "code",
      "source": [
        "i = int(input())\n",
        "if (i<10) :\n",
        "  print(\"low\")\n",
        "else :\n",
        "    print(\"hi\")"
      ],
      "metadata": {
        "colab": {
          "base_uri": "https://localhost:8080/"
        },
        "id": "NNWhXAt_e5e_",
        "outputId": "ced0d5a5-bb26-4ad6-d1dd-f69f53b0481d"
      },
      "execution_count": null,
      "outputs": [
        {
          "output_type": "stream",
          "name": "stdout",
          "text": [
            "3\n",
            "low\n",
            "bye\n"
          ]
        }
      ]
    },
    {
      "cell_type": "code",
      "source": [
        "for i in range(1,6,1):\n",
        "  print(i)"
      ],
      "metadata": {
        "colab": {
          "base_uri": "https://localhost:8080/"
        },
        "id": "pFbQjNisfpyX",
        "outputId": "6dfc2ae4-8313-4ec5-e112-29f113109faf"
      },
      "execution_count": null,
      "outputs": [
        {
          "output_type": "stream",
          "name": "stdout",
          "text": [
            "1\n",
            "2\n",
            "3\n",
            "4\n",
            "5\n"
          ]
        }
      ]
    },
    {
      "cell_type": "code",
      "source": [
        "for i in range(2,11,2):\n",
        "  print(i)"
      ],
      "metadata": {
        "colab": {
          "base_uri": "https://localhost:8080/"
        },
        "id": "sbN-JLdaf93q",
        "outputId": "30b2232b-faf9-470a-ae1e-d3cbba187c80"
      },
      "execution_count": null,
      "outputs": [
        {
          "output_type": "stream",
          "name": "stdout",
          "text": [
            "2\n",
            "4\n",
            "6\n",
            "8\n",
            "10\n"
          ]
        }
      ]
    },
    {
      "cell_type": "code",
      "source": [
        "x = 0\n",
        "for i in range(2,11,2):\n",
        "  x = x + i\n",
        "print(x)"
      ],
      "metadata": {
        "colab": {
          "base_uri": "https://localhost:8080/"
        },
        "id": "bNRM-IScgGjJ",
        "outputId": "2febe570-958a-4b1b-f01c-f99ec30682c0"
      },
      "execution_count": null,
      "outputs": [
        {
          "output_type": "stream",
          "name": "stdout",
          "text": [
            "30\n"
          ]
        }
      ]
    },
    {
      "cell_type": "code",
      "source": [
        "def func(x,y):\n",
        "  plus = x+y\n",
        "  minus = x-y\n",
        "  return plus, minus\n",
        "\n",
        "a, b = func(10,20)\n",
        "print(a)\n",
        "print(b)"
      ],
      "metadata": {
        "colab": {
          "base_uri": "https://localhost:8080/"
        },
        "id": "D8iQ5TlsiLrj",
        "outputId": "6c7412ff-d3dc-49bc-f6e9-095905d26ee0"
      },
      "execution_count": null,
      "outputs": [
        {
          "output_type": "stream",
          "name": "stdout",
          "text": [
            "30\n",
            "-10\n"
          ]
        }
      ]
    },
    {
      "cell_type": "code",
      "source": [
        "def grade(x):\n",
        "  if x >= 90:\n",
        "    y = \"A\"\n",
        "  elif x >= 80:\n",
        "    y = \"B\"\n",
        "  elif x >= 70:\n",
        "    y = \"C\"\n",
        "  else:\n",
        "    y = \"F\"\n",
        "  return y\n",
        "\n",
        "i = int(input())\n",
        "g = grade(i)\n",
        "print(g)\n",
        "\n"
      ],
      "metadata": {
        "colab": {
          "base_uri": "https://localhost:8080/"
        },
        "id": "63l22EO2iwPX",
        "outputId": "7ac9f1c9-6045-4d54-f457-f3e12d166cfa"
      },
      "execution_count": null,
      "outputs": [
        {
          "output_type": "stream",
          "name": "stdout",
          "text": [
            "100\n",
            "A\n"
          ]
        }
      ]
    },
    {
      "cell_type": "code",
      "source": [
        "s = \"abcdefg\"\n",
        "print(s[-1])\n",
        "print(s[1:4])\n",
        "print(s[3:])\n",
        "print(s[:2])\n",
        "print(len(s))\n",
        "s1 = s + \"xyz\"\n",
        "print(s1)"
      ],
      "metadata": {
        "colab": {
          "base_uri": "https://localhost:8080/"
        },
        "id": "Gx_dp0Pzlc0x",
        "outputId": "95ba33ae-36d4-4dd4-8b59-646f1e0263ab"
      },
      "execution_count": null,
      "outputs": [
        {
          "output_type": "stream",
          "name": "stdout",
          "text": [
            "g\n",
            "bcd\n",
            "defg\n",
            "ab\n",
            "7\n",
            "abcdefgxyz\n"
          ]
        }
      ]
    },
    {
      "cell_type": "code",
      "source": [
        "s = \"어떤 별에 사는 꽃을 좋아한다면 밤에 하늘을 쳐다보는 게 즐거울 거야 어느 별이나 다 꽃이 필테니까\"\n",
        "i = input()\n",
        "print(s.count(i))\n",
        "print(s.find(i)) #앞에서 뒤로\n",
        "print(s.rfind(i)) #뒤에서 앞으로\n",
        "print(s.index(i)) #색인\n"
      ],
      "metadata": {
        "colab": {
          "base_uri": "https://localhost:8080/"
        },
        "id": "9xApYZXenEdy",
        "outputId": "80d22849-5726-465b-95ce-14b6f93cf781"
      },
      "execution_count": null,
      "outputs": [
        {
          "output_type": "stream",
          "name": "stdout",
          "text": [
            "아\n",
            "1\n",
            "13\n",
            "13\n",
            "13\n"
          ]
        }
      ]
    },
    {
      "cell_type": "code",
      "source": [
        "s = \"어떤 별에 사는 꽃을 좋아한다면 밤에 하늘을 쳐다보는 게 즐거울 거야 어느 별이나 다 꽃이 필테니까\"\n",
        "s.split()\n",
        "s = \"aa,bb,cc,dd\"\n",
        "s.split(',')\n"
      ],
      "metadata": {
        "colab": {
          "base_uri": "https://localhost:8080/"
        },
        "id": "i9G1JaX5oHXf",
        "outputId": "6198eea5-658f-4134-8d55-6b30405e380f"
      },
      "execution_count": null,
      "outputs": [
        {
          "output_type": "execute_result",
          "data": {
            "text/plain": [
              "['aa', 'bb', 'cc', 'dd']"
            ]
          },
          "metadata": {},
          "execution_count": 94
        }
      ]
    },
    {
      "cell_type": "code",
      "source": [
        "import time\n",
        "\n",
        "t = 0\n",
        "start = time.time()\n",
        "\n",
        "for i in range(0,1000000):\n",
        "  t = t+1\n",
        "\n",
        "end = time.time()\n",
        "print(end-start)"
      ],
      "metadata": {
        "id": "jOIPhY_coHVS",
        "colab": {
          "base_uri": "https://localhost:8080/"
        },
        "outputId": "695887ee-dcb6-4c1b-f55f-f66506804eb0"
      },
      "execution_count": null,
      "outputs": [
        {
          "output_type": "stream",
          "name": "stdout",
          "text": [
            "0.1284193992614746\n"
          ]
        }
      ]
    },
    {
      "cell_type": "code",
      "source": [
        "a=[]\n",
        "a.append(0)\n",
        "a.append(1)\n",
        "a.append(2)\n",
        "a.append(3)\n",
        "print(a[0:])"
      ],
      "metadata": {
        "colab": {
          "base_uri": "https://localhost:8080/"
        },
        "id": "xkpzBQe9iO4S",
        "outputId": "6c2cc590-ff9d-4c41-ce57-d46f421fce11"
      },
      "execution_count": null,
      "outputs": [
        {
          "output_type": "stream",
          "name": "stdout",
          "text": [
            "[0, 1, 2, 3]\n"
          ]
        }
      ]
    },
    {
      "cell_type": "code",
      "source": [
        "a = [1,3,5,7,9]\n",
        "a.append(\"hi\")\n",
        "print (a)\n",
        "print(len(a))\n",
        "print(a[2:])"
      ],
      "metadata": {
        "id": "lO0eIMDQn8M3",
        "colab": {
          "base_uri": "https://localhost:8080/"
        },
        "outputId": "67b4767b-6283-40a9-b409-5b3d9960af1b"
      },
      "execution_count": null,
      "outputs": [
        {
          "output_type": "stream",
          "name": "stdout",
          "text": [
            "[1, 3, 5, 7, 9, 'hi']\n",
            "6\n",
            "[5, 7, 9, 'hi']\n"
          ]
        }
      ]
    },
    {
      "cell_type": "code",
      "source": [
        "s = [\"에스파\",\"아이브\",\"뉴진스\",\"잇지\"]\n",
        "s[-1]\n",
        "s.append(\"트와이스\")\n",
        "s[1] = \"유진\"\n",
        "print(s)\n",
        "del(s[1])\n",
        "s\n"
      ],
      "metadata": {
        "colab": {
          "base_uri": "https://localhost:8080/"
        },
        "id": "XfwwcksIkCie",
        "outputId": "e734832f-37b7-4ba0-ba85-d38a1e9279d7"
      },
      "execution_count": null,
      "outputs": [
        {
          "output_type": "stream",
          "name": "stdout",
          "text": [
            "['에스파', '유진', '뉴진스', '잇지', '트와이스']\n"
          ]
        },
        {
          "output_type": "execute_result",
          "data": {
            "text/plain": [
              "['에스파', '뉴진스', '잇지', '트와이스']"
            ]
          },
          "metadata": {},
          "execution_count": 45
        }
      ]
    },
    {
      "cell_type": "code",
      "source": [
        "a=[99,3, 22, 0]\n",
        "a.append(88)\n",
        "a.pop()\n",
        "a.sort()\n",
        "a.reverse()\n",
        "a.index(22)\n",
        "print(a)\n",
        "a.insert(-1,23)\n",
        "a"
      ],
      "metadata": {
        "colab": {
          "base_uri": "https://localhost:8080/"
        },
        "id": "mn9qFpwgkFWm",
        "outputId": "2e79f9bc-8038-4da4-8abc-edb3d7a5c159"
      },
      "execution_count": null,
      "outputs": [
        {
          "output_type": "stream",
          "name": "stdout",
          "text": [
            "[99, 22, 3, 0]\n"
          ]
        },
        {
          "output_type": "execute_result",
          "data": {
            "text/plain": [
              "[99, 22, 3, 23, 0]"
            ]
          },
          "metadata": {},
          "execution_count": 63
        }
      ]
    },
    {
      "cell_type": "code",
      "source": [],
      "metadata": {
        "id": "d6lQnwanmmzj"
      },
      "execution_count": null,
      "outputs": []
    }
  ]
}