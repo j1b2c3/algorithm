{
  "nbformat": 4,
  "nbformat_minor": 0,
  "metadata": {
    "colab": {
      "provenance": [],
      "authorship_tag": "ABX9TyNNAdYQrFwQNWJsZ4FEyzin",
      "include_colab_link": true
    },
    "kernelspec": {
      "name": "python3",
      "display_name": "Python 3"
    },
    "language_info": {
      "name": "python"
    }
  },
  "cells": [
    {
      "cell_type": "markdown",
      "metadata": {
        "id": "view-in-github",
        "colab_type": "text"
      },
      "source": [
        "<a href=\"https://colab.research.google.com/github/j1b2c3/algorithm/blob/main/Heap_Priority_Queue.ipynb\" target=\"_parent\"><img src=\"https://colab.research.google.com/assets/colab-badge.svg\" alt=\"Open In Colab\"/></a>"
      ]
    },
    {
      "cell_type": "code",
      "execution_count": null,
      "metadata": {
        "colab": {
          "base_uri": "https://localhost:8080/"
        },
        "id": "IQqRhZkc57TZ",
        "outputId": "0fc241a4-5b94-434c-cfc1-063237409f12"
      },
      "outputs": [
        {
          "output_type": "stream",
          "name": "stdout",
          "text": [
            "10\n",
            "5\n",
            "3\n",
            "1\n"
          ]
        }
      ],
      "source": [
        "from queue import PriorityQueue\n",
        "\n",
        "Q = PriorityQueue()\n",
        "Q.put(10)\n",
        "Q.put(1)\n",
        "Q.put(5)\n",
        "Q.put(3)\n",
        "\n",
        "print(Q.get())\n",
        "print(Q.get())\n",
        "print(Q.get())\n",
        "print(Q.get())"
      ]
    }
  ]
}