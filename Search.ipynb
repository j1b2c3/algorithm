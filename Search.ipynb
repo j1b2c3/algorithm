{
  "nbformat": 4,
  "nbformat_minor": 0,
  "metadata": {
    "colab": {
      "provenance": [],
      "authorship_tag": "ABX9TyP/gTqbXnsCvlQ/6u36mCy6",
      "include_colab_link": true
    },
    "kernelspec": {
      "name": "python3",
      "display_name": "Python 3"
    },
    "language_info": {
      "name": "python"
    }
  },
  "cells": [
    {
      "cell_type": "markdown",
      "metadata": {
        "id": "view-in-github",
        "colab_type": "text"
      },
      "source": [
        "<a href=\"https://colab.research.google.com/github/j1b2c3/algorithm/blob/main/Search.ipynb\" target=\"_parent\"><img src=\"https://colab.research.google.com/assets/colab-badge.svg\" alt=\"Open In Colab\"/></a>"
      ]
    },
    {
      "cell_type": "code",
      "execution_count": null,
      "metadata": {
        "id": "h9xaj48fsZ0f"
      },
      "outputs": [],
      "source": [
        "a = [1,3,5,7,9]\n",
        "\n",
        "def find(d):\n",
        "  for i in range(0, len(a)):\n",
        "    if a[i] == d:\n",
        "      print(\"find\")\n",
        "      return\n",
        "  print(\"not found\")\n",
        "\n",
        "find(int(input(\"찾는값:\")))\n"
      ]
    },
    {
      "cell_type": "code",
      "source": [
        "a = [1,3,5,7,9,11,13,15,17,19]\n",
        "\n",
        "def binsearch(d):\n",
        "  start = 0\n",
        "  end = len(a) - 1\n",
        "\n",
        "  while(start <= end):\n",
        "    mid = (start + end) // 2\n",
        "    if a[mid] == d:\n",
        "      print(\"find\")\n",
        "      return\n",
        "    else:\n",
        "      if a[mid] > d:\n",
        "       end = mid - 1\n",
        "      else:\n",
        "       start = mid + 1\n",
        "  print(\"not found\")\n",
        "\n",
        "\n",
        "binsearch(int(input(\"찾는값:\")))\n",
        "\n"
      ],
      "metadata": {
        "colab": {
          "base_uri": "https://localhost:8080/"
        },
        "id": "6UYaLv3WuDp9",
        "outputId": "4c01511f-6b3b-4c27-d1fe-dfcf950bc021"
      },
      "execution_count": null,
      "outputs": [
        {
          "output_type": "stream",
          "name": "stdout",
          "text": [
            "찾는값:11\n",
            "find\n"
          ]
        }
      ]
    },
    {
      "cell_type": "code",
      "source": [
        "a = list(range(1,101))\n",
        "\n",
        "def binsearch(d):\n",
        "  start = 1\n",
        "  end = 100\n",
        "\n",
        "  while start <= end:\n",
        "    mid = (start + end) // 2\n",
        "    if a[mid] == d:\n",
        "      print(f\"값 {d}을(를) 찾았습니다! (인덱스: {mid})\")\n",
        "      return\n",
        "    else:\n",
        "      if mid > d:\n",
        "        end = mid - 1\n",
        "      else:\n",
        "        start = mid + 1\n",
        "\n",
        "binsearch(int(input(\"임계점:\")))\n",
        ""
      ],
      "metadata": {
        "colab": {
          "base_uri": "https://localhost:8080/"
        },
        "id": "wPohMsidvpIv",
        "outputId": "7ad46e74-7ac0-4fba-cf58-0c20ed07c360"
      },
      "execution_count": 17,
      "outputs": [
        {
          "output_type": "stream",
          "name": "stdout",
          "text": [
            "임계점:11\n",
            "값 11을(를) 찾았습니다! (인덱스: 10)\n"
          ]
        }
      ]
    },
    {
      "cell_type": "code",
      "source": [
        "import random\n",
        "\n",
        "# 0~99 중 10개 난수 생성\n",
        "data_list = random.sample(range(100), 10)\n",
        "print(\"리스트:\", data_list)\n",
        "\n",
        "def even(arr):\n",
        "    count = sum(1 for num in arr if num % 2 == 0)\n",
        "    print(\"짝수 개수:\", count)\n",
        "    return count\n",
        "\n",
        "def same(arr):\n",
        "    dup_dict = {}\n",
        "    for num in arr:\n",
        "        if num in dup_dict:\n",
        "            dup_dict[num] += 1\n",
        "        else:\n",
        "            dup_dict[num] = 1\n",
        "\n",
        "    duplicates = {num: count for num, count in dup_dict.items() if count > 1}\n",
        "\n",
        "    if duplicates:\n",
        "        print(\"중복 여부: Y\")\n",
        "        for num, count in duplicates.items():\n",
        "            print(f\"숫자 {num} 중복 횟수: {count}\")\n",
        "    else:\n",
        "        print(\"중복되지 않음\")\n",
        "\n",
        "def gap(arr):\n",
        "    min_val = min(arr)\n",
        "    max_val = max(arr)\n",
        "    print(f\"최댓값({max_val})과 최솟값({min_val})의 차이: {max_val - min_val}\")\n",
        "\n",
        "# 함수 실행\n",
        "even(data_list)\n",
        "same(data_list)\n",
        "gap(data_list)\n"
      ],
      "metadata": {
        "colab": {
          "base_uri": "https://localhost:8080/"
        },
        "id": "9PKcKO3UuUG5",
        "outputId": "f93017cb-9cb6-41f0-90d8-192727f64f80"
      },
      "execution_count": 8,
      "outputs": [
        {
          "output_type": "stream",
          "name": "stdout",
          "text": [
            "리스트: [68, 58, 45, 82, 61, 47, 44, 97, 33, 85]\n",
            "짝수 개수: 4\n",
            "중복되지 않음\n",
            "최댓값(97)과 최솟값(33)의 차이: 64\n"
          ]
        }
      ]
    },
    {
      "cell_type": "code",
      "source": [
        "c = input()\n",
        "\n",
        "def isvowel(d):\n",
        "  if d == 'a' or d == 'e' or d == 'i' or d == 'o' or d == 'u' and d != ' ':\n",
        "    return True\n",
        "  else:\n",
        "    False\n",
        "\n",
        "def iscons(d):\n",
        "  if d != 'a' and d != 'e' and d != 'i' and d != 'o' and d != 'u' and d != ' ':\n",
        "    return True\n",
        "  else:\n",
        "    False\n",
        "\n",
        "\n",
        "def vowel(a):\n",
        "  vowel_count = 0\n",
        "  count = 0\n",
        "  for i in range(0,len(a)):\n",
        "   if a[i] == ' ':\n",
        "     count = 0\n",
        "   if count == 1:\n",
        "     if iscons(a[i]):\n",
        "       count = 0\n",
        "   if isvowel(a[i]):\n",
        "     count += 1\n",
        "   if count == 2:\n",
        "     vowel_count += 1\n",
        "     count = 0\n",
        "  return vowel_count\n",
        "\n",
        "def cons(a):\n",
        "  cons_count = 0\n",
        "  count = 0\n",
        "  for i in range(0,len(a)):\n",
        "   if a[i] == ' ':\n",
        "     count = 0\n",
        "   if count == 1 or count == 2:\n",
        "     if isvowel(a[i]):\n",
        "       count = 0\n",
        "   if iscons(a[i]):\n",
        "     count += 1\n",
        "   if count == 3:\n",
        "     cons_count += 1\n",
        "     count = 0\n",
        "  return cons_count\n",
        "\n",
        "\n",
        "print(vowel(c))\n",
        "print(cons(c))"
      ],
      "metadata": {
        "colab": {
          "base_uri": "https://localhost:8080/"
        },
        "id": "xyLl8O4Y44jJ",
        "outputId": "975e2102-c5a4-49c8-93fe-b64fb5f0afb0"
      },
      "execution_count": null,
      "outputs": [
        {
          "output_type": "stream",
          "name": "stdout",
          "text": [
            "toast standard bank display book\n",
            "2\n",
            "1\n"
          ]
        }
      ]
    },
    {
      "cell_type": "code",
      "source": [
        "c = input(\"문자열을 입력하세요: \")\n",
        "\n",
        "def isvowel(d):\n",
        "    if d == 'a' or d == 'e' or d == 'i' or d == 'o' or d == 'u':\n",
        "        return True\n",
        "    else:\n",
        "        return False\n",
        "\n",
        "def iscons(d):\n",
        "    if d != 'a' and d != 'e' and d != 'i' and d != 'o' and d != 'u' and d != ' ':\n",
        "        return True\n",
        "    else:\n",
        "        return False\n",
        "\n",
        "def vowel(a):\n",
        "    vowel_count = 0\n",
        "    count = 0\n",
        "    for i in range(0, len(a)):\n",
        "        if a[i] == ' ':\n",
        "            count = 0\n",
        "        if count == 1:\n",
        "            if iscons(a[i]):\n",
        "                count = 0\n",
        "        if isvowel(a[i]):\n",
        "            count += 1\n",
        "        if count == 2:\n",
        "            vowel_count += 1\n",
        "            count = 0\n",
        "    return vowel_count\n",
        "\n",
        "def cons(a):\n",
        "    cons_count = 0\n",
        "    count = 0\n",
        "    for i in range(0, len(a)):\n",
        "        if a[i] == ' ':\n",
        "            count = 0\n",
        "        if count == 1 or count == 2:\n",
        "            if isvowel(a[i]):\n",
        "                count = 0\n",
        "        if iscons(a[i]):\n",
        "            count += 1\n",
        "        if count == 3:\n",
        "            cons_count += 1\n",
        "            count = 0\n",
        "    return cons_count\n",
        "\n",
        "\n",
        "print(\"두 개의 연속된 모음의 개수:\", vowel(c))\n",
        "print(\"세 개의 연속된 자음의 개수:\", cons(c))\n"
      ],
      "metadata": {
        "colab": {
          "base_uri": "https://localhost:8080/"
        },
        "id": "KVgn_Pxv3RwY",
        "outputId": "6f066885-66f1-4ee8-ca4b-73eb79888165"
      },
      "execution_count": null,
      "outputs": [
        {
          "output_type": "stream",
          "name": "stdout",
          "text": [
            "문자열을 입력하세요: toast standard bank display book\n",
            "두 개의 연속된 모음의 개수: 2\n",
            "세 개의 연속된 자음의 개수: 1\n"
          ]
        }
      ]
    }
  ]
}