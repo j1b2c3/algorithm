{
  "nbformat": 4,
  "nbformat_minor": 0,
  "metadata": {
    "colab": {
      "provenance": [],
      "authorship_tag": "ABX9TyPVAKx3tDGh71jL1CVGneSR",
      "include_colab_link": true
    },
    "kernelspec": {
      "name": "python3",
      "display_name": "Python 3"
    },
    "language_info": {
      "name": "python"
    }
  },
  "cells": [
    {
      "cell_type": "markdown",
      "metadata": {
        "id": "view-in-github",
        "colab_type": "text"
      },
      "source": [
        "<a href=\"https://colab.research.google.com/github/j1b2c3/algorithm/blob/main/Search.ipynb\" target=\"_parent\"><img src=\"https://colab.research.google.com/assets/colab-badge.svg\" alt=\"Open In Colab\"/></a>"
      ]
    },
    {
      "cell_type": "code",
      "execution_count": null,
      "metadata": {
        "id": "h9xaj48fsZ0f"
      },
      "outputs": [],
      "source": [
        "a = [1,3,5,7,9]\n",
        "\n",
        "def find(d):\n",
        "  for i in range(0, len(a)):\n",
        "    if a[i] == d:\n",
        "      print(\"find\")\n",
        "      return\n",
        "  print(\"not found\")\n",
        "\n",
        "find(int(input(\"찾는값:\")))\n"
      ]
    },
    {
      "cell_type": "code",
      "source": [
        "a = [1,3,5,7,9,11,13,15,17,19]\n",
        "\n",
        "def binsearch(d):\n",
        "  start = 0\n",
        "  end = len(a) - 1\n",
        "\n",
        "  while(start <= end):\n",
        "    mid = (start + end) // 2\n",
        "    if a[mid] == d:\n",
        "      print(\"find\")\n",
        "      return\n",
        "    else:\n",
        "      if a[mid] > d:\n",
        "       end = mid - 1\n",
        "      else:\n",
        "       start = mid + 1\n",
        "  print(\"not found\")\n",
        "\n",
        "\n",
        "binsearch(int(input(\"찾는값:\")))\n",
        "\n"
      ],
      "metadata": {
        "colab": {
          "base_uri": "https://localhost:8080/"
        },
        "id": "6UYaLv3WuDp9",
        "outputId": "4c01511f-6b3b-4c27-d1fe-dfcf950bc021"
      },
      "execution_count": null,
      "outputs": [
        {
          "output_type": "stream",
          "name": "stdout",
          "text": [
            "찾는값:11\n",
            "find\n"
          ]
        }
      ]
    },
    {
      "cell_type": "code",
      "source": [
        "a = []\n",
        "\n",
        "for i in range (100):\n",
        "  a[i-1] = i\n",
        "\n",
        "def binsearch(d):\n",
        "  start = 1\n",
        "  end = 100\n",
        "\n",
        "  while start <= end:\n",
        "    mid = (start + end) // 2\n",
        "    if a[mid] == d:\n",
        "      print(\"break\")\n",
        "      return\n",
        "    else:\n",
        "      if mid > d:\n",
        "        end = mid - 1\n",
        "      else:\n",
        "        start = mid + 1\n",
        "\n",
        "binsearch(int(input(\"임계점:\")))\n",
        ""
      ],
      "metadata": {
        "colab": {
          "base_uri": "https://localhost:8080/",
          "height": 245
        },
        "id": "wPohMsidvpIv",
        "outputId": "4ffe6357-2bdd-402c-96b1-ef9d62d1b824"
      },
      "execution_count": null,
      "outputs": [
        {
          "output_type": "error",
          "ename": "IndexError",
          "evalue": "ignored",
          "traceback": [
            "\u001b[0;31m---------------------------------------------------------------------------\u001b[0m",
            "\u001b[0;31mIndexError\u001b[0m                                Traceback (most recent call last)",
            "\u001b[0;32m<ipython-input-18-eda53c8c62fc>\u001b[0m in \u001b[0;36m<cell line: 3>\u001b[0;34m()\u001b[0m\n\u001b[1;32m      2\u001b[0m \u001b[0;34m\u001b[0m\u001b[0m\n\u001b[1;32m      3\u001b[0m \u001b[0;32mfor\u001b[0m \u001b[0mi\u001b[0m \u001b[0;32min\u001b[0m \u001b[0mrange\u001b[0m \u001b[0;34m(\u001b[0m\u001b[0;36m100\u001b[0m\u001b[0;34m)\u001b[0m\u001b[0;34m:\u001b[0m\u001b[0;34m\u001b[0m\u001b[0;34m\u001b[0m\u001b[0m\n\u001b[0;32m----> 4\u001b[0;31m   \u001b[0ma\u001b[0m\u001b[0;34m[\u001b[0m\u001b[0mi\u001b[0m\u001b[0;34m-\u001b[0m\u001b[0;36m1\u001b[0m\u001b[0;34m]\u001b[0m \u001b[0;34m=\u001b[0m \u001b[0mi\u001b[0m\u001b[0;34m\u001b[0m\u001b[0;34m\u001b[0m\u001b[0m\n\u001b[0m\u001b[1;32m      5\u001b[0m \u001b[0;34m\u001b[0m\u001b[0m\n\u001b[1;32m      6\u001b[0m \u001b[0;32mdef\u001b[0m \u001b[0mbinsearch\u001b[0m\u001b[0;34m(\u001b[0m\u001b[0md\u001b[0m\u001b[0;34m)\u001b[0m\u001b[0;34m:\u001b[0m\u001b[0;34m\u001b[0m\u001b[0;34m\u001b[0m\u001b[0m\n",
            "\u001b[0;31mIndexError\u001b[0m: list assignment index out of range"
          ]
        }
      ]
    },
    {
      "cell_type": "code",
      "source": [
        "import random\n",
        "data_list = random.sample(range(100),10)\n",
        "print(data_list)\n",
        "\n",
        "a = [data_list]\n",
        "\n",
        "def even(arr):\n",
        "  count = 0\n",
        "  for a in range (0,len(a)):\n",
        "    if a % 2 == 0:\n",
        "      count += 1\n",
        "  return count\n",
        "\n",
        "def same(arr):\n",
        "  count = 1\n",
        "  for i in range (arr):\n",
        "    temp = a[i]\n",
        "    for j in range (1,len(a)):\n",
        "      if temp == a[j]:\n",
        "        dup = True\n",
        "        count += 1\n",
        "        dupNum = a[i]\n",
        "\n",
        "  if dup == True:\n",
        "    print(\"중복 여부 : Y\")\n",
        "    print(\"중복 횟수 : \", count)\n",
        "    print(\"중복된 숫자 : \", dupNum)\n",
        "  else:\n",
        "    print(\"중복되지 않음음\")\n",
        "\n",
        "def gap(arr):\n",
        "  min = a[0]\n",
        "  max = a[0]\n",
        "\n",
        "  for i in range(1,len(a)-1):\n",
        "    if min > a[i]:\n",
        "      min = a[i]\n",
        "    if max < a[i]:\n",
        "      max = a[i]\n",
        "  print(\"최댓값과 최솟값의 차이 : \", max - min)\n",
        "\n",
        "even(a)\n",
        "same(a)\n",
        "gap(a)\n",
        "\n",
        "\n",
        "\n"
      ],
      "metadata": {
        "colab": {
          "base_uri": "https://localhost:8080/",
          "height": 390
        },
        "id": "9PKcKO3UuUG5",
        "outputId": "e03def96-0b01-4f30-85d4-0dbbb143570e"
      },
      "execution_count": null,
      "outputs": [
        {
          "output_type": "stream",
          "name": "stdout",
          "text": [
            "[34, 27, 75, 61, 81, 52, 25, 30, 21, 23]\n"
          ]
        },
        {
          "output_type": "error",
          "ename": "UnboundLocalError",
          "evalue": "ignored",
          "traceback": [
            "\u001b[0;31m---------------------------------------------------------------------------\u001b[0m",
            "\u001b[0;31mUnboundLocalError\u001b[0m                         Traceback (most recent call last)",
            "\u001b[0;32m<ipython-input-31-03f0c87e76b2>\u001b[0m in \u001b[0;36m<cell line: 42>\u001b[0;34m()\u001b[0m\n\u001b[1;32m     40\u001b[0m   \u001b[0mprint\u001b[0m\u001b[0;34m(\u001b[0m\u001b[0;34m\"최댓값과 최솟값의 차이 : \"\u001b[0m\u001b[0;34m,\u001b[0m \u001b[0mmax\u001b[0m \u001b[0;34m-\u001b[0m \u001b[0mmin\u001b[0m\u001b[0;34m)\u001b[0m\u001b[0;34m\u001b[0m\u001b[0;34m\u001b[0m\u001b[0m\n\u001b[1;32m     41\u001b[0m \u001b[0;34m\u001b[0m\u001b[0m\n\u001b[0;32m---> 42\u001b[0;31m \u001b[0meven\u001b[0m\u001b[0;34m(\u001b[0m\u001b[0ma\u001b[0m\u001b[0;34m)\u001b[0m\u001b[0;34m\u001b[0m\u001b[0;34m\u001b[0m\u001b[0m\n\u001b[0m\u001b[1;32m     43\u001b[0m \u001b[0msame\u001b[0m\u001b[0;34m(\u001b[0m\u001b[0ma\u001b[0m\u001b[0;34m)\u001b[0m\u001b[0;34m\u001b[0m\u001b[0;34m\u001b[0m\u001b[0m\n\u001b[1;32m     44\u001b[0m \u001b[0mgap\u001b[0m\u001b[0;34m(\u001b[0m\u001b[0ma\u001b[0m\u001b[0;34m)\u001b[0m\u001b[0;34m\u001b[0m\u001b[0;34m\u001b[0m\u001b[0m\n",
            "\u001b[0;32m<ipython-input-31-03f0c87e76b2>\u001b[0m in \u001b[0;36meven\u001b[0;34m(arr)\u001b[0m\n\u001b[1;32m      7\u001b[0m \u001b[0;32mdef\u001b[0m \u001b[0meven\u001b[0m\u001b[0;34m(\u001b[0m\u001b[0marr\u001b[0m\u001b[0;34m)\u001b[0m\u001b[0;34m:\u001b[0m\u001b[0;34m\u001b[0m\u001b[0;34m\u001b[0m\u001b[0m\n\u001b[1;32m      8\u001b[0m   \u001b[0mcount\u001b[0m \u001b[0;34m=\u001b[0m \u001b[0;36m0\u001b[0m\u001b[0;34m\u001b[0m\u001b[0;34m\u001b[0m\u001b[0m\n\u001b[0;32m----> 9\u001b[0;31m   \u001b[0;32mfor\u001b[0m \u001b[0ma\u001b[0m \u001b[0;32min\u001b[0m \u001b[0mrange\u001b[0m \u001b[0;34m(\u001b[0m\u001b[0;36m0\u001b[0m\u001b[0;34m,\u001b[0m\u001b[0mlen\u001b[0m\u001b[0;34m(\u001b[0m\u001b[0ma\u001b[0m\u001b[0;34m)\u001b[0m\u001b[0;34m)\u001b[0m\u001b[0;34m:\u001b[0m\u001b[0;34m\u001b[0m\u001b[0;34m\u001b[0m\u001b[0m\n\u001b[0m\u001b[1;32m     10\u001b[0m     \u001b[0;32mif\u001b[0m \u001b[0ma\u001b[0m \u001b[0;34m%\u001b[0m \u001b[0;36m2\u001b[0m \u001b[0;34m==\u001b[0m \u001b[0;36m0\u001b[0m\u001b[0;34m:\u001b[0m\u001b[0;34m\u001b[0m\u001b[0;34m\u001b[0m\u001b[0m\n\u001b[1;32m     11\u001b[0m       \u001b[0mcount\u001b[0m \u001b[0;34m+=\u001b[0m \u001b[0;36m1\u001b[0m\u001b[0;34m\u001b[0m\u001b[0;34m\u001b[0m\u001b[0m\n",
            "\u001b[0;31mUnboundLocalError\u001b[0m: local variable 'a' referenced before assignment"
          ]
        }
      ]
    },
    {
      "cell_type": "code",
      "source": [
        "c = input()\n",
        "\n",
        "def isvowel(d):\n",
        "  if d == 'a' or d == 'e' or d == 'i' or d == 'o' or d == 'u' and d != ' ':\n",
        "    return True\n",
        "  else:\n",
        "    False\n",
        "\n",
        "def iscons(d):\n",
        "  if d != 'a' and d != 'e' and d != 'i' and d != 'o' and d != 'u' and d != ' ':\n",
        "    return True\n",
        "  else:\n",
        "    False\n",
        "\n",
        "\n",
        "def vowel(a):\n",
        "  vowel_count = 0\n",
        "  count = 0\n",
        "  for i in range(0,len(a)):\n",
        "   if a[i] == ' ':\n",
        "     count = 0\n",
        "   if count == 1:\n",
        "     if iscons(a[i]):\n",
        "       count = 0\n",
        "   if isvowel(a[i]):\n",
        "     count += 1\n",
        "   if count == 2:\n",
        "     vowel_count += 1\n",
        "     count = 0\n",
        "  return vowel_count\n",
        "\n",
        "def cons(a):\n",
        "  cons_count = 0\n",
        "  count = 0\n",
        "  for i in range(0,len(a)):\n",
        "   if a[i] == ' ':\n",
        "     count = 0\n",
        "   if count == 1 or count == 2:\n",
        "     if isvowel(a[i]):\n",
        "       count = 0\n",
        "   if iscons(a[i]):\n",
        "     count += 1\n",
        "   if count == 3:\n",
        "     cons_count += 1\n",
        "     count = 0\n",
        "  return cons_count\n",
        "\n",
        "\n",
        "print(vowel(c))\n",
        "print(cons(c))"
      ],
      "metadata": {
        "colab": {
          "base_uri": "https://localhost:8080/"
        },
        "id": "xyLl8O4Y44jJ",
        "outputId": "975e2102-c5a4-49c8-93fe-b64fb5f0afb0"
      },
      "execution_count": null,
      "outputs": [
        {
          "output_type": "stream",
          "name": "stdout",
          "text": [
            "toast standard bank display book\n",
            "2\n",
            "1\n"
          ]
        }
      ]
    },
    {
      "cell_type": "code",
      "source": [
        "c = input(\"문자열을 입력하세요: \")\n",
        "\n",
        "def isvowel(d):\n",
        "    if d == 'a' or d == 'e' or d == 'i' or d == 'o' or d == 'u':\n",
        "        return True\n",
        "    else:\n",
        "        return False\n",
        "\n",
        "def iscons(d):\n",
        "    if d != 'a' and d != 'e' and d != 'i' and d != 'o' and d != 'u' and d != ' ':\n",
        "        return True\n",
        "    else:\n",
        "        return False\n",
        "\n",
        "def vowel(a):\n",
        "    vowel_count = 0\n",
        "    count = 0\n",
        "    for i in range(0, len(a)):\n",
        "        if a[i] == ' ':\n",
        "            count = 0\n",
        "        if count == 1:\n",
        "            if iscons(a[i]):\n",
        "                count = 0\n",
        "        if isvowel(a[i]):\n",
        "            count += 1\n",
        "        if count == 2:\n",
        "            vowel_count += 1\n",
        "            count = 0\n",
        "    return vowel_count\n",
        "\n",
        "def cons(a):\n",
        "    cons_count = 0\n",
        "    count = 0\n",
        "    for i in range(0, len(a)):\n",
        "        if a[i] == ' ':\n",
        "            count = 0\n",
        "        if count == 1 or count == 2:\n",
        "            if isvowel(a[i]):\n",
        "                count = 0\n",
        "        if iscons(a[i]):\n",
        "            count += 1\n",
        "        if count == 3:\n",
        "            cons_count += 1\n",
        "            count = 0\n",
        "    return cons_count\n",
        "\n",
        "\n",
        "print(\"두 개의 연속된 모음의 개수:\", vowel(c))\n",
        "print(\"세 개의 연속된 자음의 개수:\", cons(c))\n"
      ],
      "metadata": {
        "colab": {
          "base_uri": "https://localhost:8080/"
        },
        "id": "KVgn_Pxv3RwY",
        "outputId": "6f066885-66f1-4ee8-ca4b-73eb79888165"
      },
      "execution_count": null,
      "outputs": [
        {
          "output_type": "stream",
          "name": "stdout",
          "text": [
            "문자열을 입력하세요: toast standard bank display book\n",
            "두 개의 연속된 모음의 개수: 2\n",
            "세 개의 연속된 자음의 개수: 1\n"
          ]
        }
      ]
    }
  ]
}