{
  "nbformat": 4,
  "nbformat_minor": 0,
  "metadata": {
    "colab": {
      "provenance": [],
      "authorship_tag": "ABX9TyNjhkftBenEnEYRXs/Q2SUL",
      "include_colab_link": true
    },
    "kernelspec": {
      "name": "python3",
      "display_name": "Python 3"
    },
    "language_info": {
      "name": "python"
    }
  },
  "cells": [
    {
      "cell_type": "markdown",
      "metadata": {
        "id": "view-in-github",
        "colab_type": "text"
      },
      "source": [
        "<a href=\"https://colab.research.google.com/github/j1b2c3/algorithm/blob/main/arrayList.ipynb\" target=\"_parent\"><img src=\"https://colab.research.google.com/assets/colab-badge.svg\" alt=\"Open In Colab\"/></a>"
      ]
    },
    {
      "cell_type": "code",
      "execution_count": null,
      "metadata": {
        "colab": {
          "base_uri": "https://localhost:8080/"
        },
        "id": "168y-QcOQB1y",
        "outputId": "cfa956e8-d5a4-4769-e0a5-6a5b07635a7a"
      },
      "outputs": [
        {
          "output_type": "stream",
          "name": "stdout",
          "text": [
            " \n",
            "12 \n",
            "34 \n",
            "56"
          ]
        }
      ],
      "source": [
        "import numpy as np\n",
        "a = [1,2,3,4,5,6]\n",
        "\n",
        "a = np.reshape(a, (3,2))\n",
        "for i in range(0,3):\n",
        "  print(' ')\n",
        "  for j in range(0,2):\n",
        "    print(a[i][j], end='')"
      ]
    },
    {
      "cell_type": "code",
      "source": [
        "import numpy as np\n",
        "a = []\n",
        "for i in range(0,3):\n",
        "  for j in range(0,3):\n",
        "    a.append(int(input(\"입력값 : \")))\n",
        "\n",
        "a = np.reshape(a, (3,3))\n",
        "for i in range(0,3):\n",
        "  print('')\n",
        "  for j in range(0,3):\n",
        "    print(a[i][j], end=' ')\n",
        "print('')\n",
        "\n",
        "Max = a[0][0]\n",
        "Sum = 0\n",
        "for i in range(0,3):\n",
        "  for j in range(0,3):\n",
        "    if Max < a[i][j]:\n",
        "      Max = a[i][j]\n",
        "    Sum += a[i][j]\n",
        "\n",
        "Avg = Sum / 9\n",
        "\n",
        "print(\"최댓값 :\", Max)\n",
        "print(\"합 : \", Sum)\n",
        "print(\"평균 : \", Avg)\n",
        "\n"
      ],
      "metadata": {
        "colab": {
          "base_uri": "https://localhost:8080/"
        },
        "id": "lsDJkg-WQlVb",
        "outputId": "cd8096ff-e795-47d6-ccd4-ec5298ef3337"
      },
      "execution_count": null,
      "outputs": [
        {
          "output_type": "stream",
          "name": "stdout",
          "text": [
            "입력값 : 123\n",
            "입력값 : 14\n",
            "입력값 : 11\n",
            "입력값 : 142\n",
            "입력값 : 23\n",
            "입력값 : 1\n",
            "입력값 : 23\n",
            "입력값 : 15\n",
            "입력값 : 16\n",
            "\n",
            "123 14 11 \n",
            "142 23 1 \n",
            "23 15 16 \n",
            "최댓값 : 142\n",
            "합 :  368\n",
            "평균 :  40.888888888888886\n"
          ]
        }
      ]
    },
    {
      "cell_type": "code",
      "source": [
        "from os import dup\n",
        "import numpy as np\n",
        "a = [8,17,5,18,5,9,1,2,5,4]\n",
        "\n",
        "Evencount = 0\n",
        "for i in range(0,10):\n",
        "  if a[i] % 2 == 0:\n",
        "    Evencount+= 1\n",
        "\n",
        "def Duplicate(a):\n",
        "  for i in range(0,9):\n",
        "   for j in range(i,9):\n",
        "    if a[i] == a[j+1]:\n",
        "      return \"y\"\n",
        "  return \"n\"\n",
        "\n",
        "Max = a[0]\n",
        "Min = a[0]\n",
        "\n",
        "for i in range(0,10):\n",
        "  if Max <= a[i]:\n",
        "    Max = a[i]\n",
        "  if Min >= a[i]:\n",
        "    Min = a[i]\n",
        "\n",
        "print(\"짝수의 개수 : \",Evencount)\n",
        "print(\"같은 값이 반복되는가 : \", Duplicate(a))\n",
        "print(\"최대값과 최솟값의 차이 : \",Max-Min)\n",
        "\n"
      ],
      "metadata": {
        "colab": {
          "base_uri": "https://localhost:8080/"
        },
        "id": "vWYmr0y3Qz6z",
        "outputId": "c70f2f18-e9dc-4701-90f9-5f6b9fc3acbe"
      },
      "execution_count": null,
      "outputs": [
        {
          "output_type": "stream",
          "name": "stdout",
          "text": [
            "짝수의 개수 :  4\n",
            "같은 값이 반복되는가 :  y\n",
            "최대값과 최솟값의 차이 :  17\n"
          ]
        }
      ]
    },
    {
      "cell_type": "code",
      "source": [
        "import numpy as np\n",
        "rows, cols = (5,5)\n",
        "a = [[ 0 for i in range(cols)] for j in range(rows)]\n",
        "\n",
        "k=0\n",
        "for i in range(0,cols):\n",
        "  for j in range(0,rows):\n",
        "    a[i][j] = k\n",
        "    k+=1\n",
        "\n",
        "for i in range(0,rows):\n",
        "  print(\"\")\n",
        "  for j in range(0,cols):\n",
        "    print(a[i][j], end=' ')\n",
        "print('')\n",
        "\n",
        "#짝수열 출력\n",
        "print(\"짝수열\")\n",
        "\n",
        "for i in range(0,5):\n",
        "  if a[i][0] % 2 == 0:\n",
        "    print('')\n",
        "    for j in range(0, 5):\n",
        "      print(a[i][j], \" \", end='')\n",
        "print('')\n",
        "\n",
        "#홀수행 출력\n",
        "print(\"홀수행\")\n",
        "for i in range(0,5):\n",
        "  if a[0][i] % 2 == 1:\n",
        "    for j in range(0, 5):\n",
        "     print('')\n",
        "     print(a[j][i], \" \", end='')\n",
        "\n",
        "\n"
      ],
      "metadata": {
        "colab": {
          "base_uri": "https://localhost:8080/"
        },
        "id": "QkjgMvUkWRP8",
        "outputId": "0ae1fabe-5ba8-4cc7-8f83-8871af4f2711"
      },
      "execution_count": null,
      "outputs": [
        {
          "output_type": "stream",
          "name": "stdout",
          "text": [
            "\n",
            "0 1 2 3 4 \n",
            "5 6 7 8 9 \n",
            "10 11 12 13 14 \n",
            "15 16 17 18 19 \n",
            "20 21 22 23 24 \n",
            "짝수열\n",
            "\n",
            "0  1  2  3  4  합 :  10\n",
            "\n",
            "10  11  12  13  14  합 :  60\n",
            "\n",
            "20  21  22  23  24  합 :  110\n",
            "\n",
            "홀수행\n",
            "\n",
            "1  \n",
            "6  \n",
            "11  \n",
            "16  \n",
            "21  합 :  55\n",
            "\n",
            "3  \n",
            "8  \n",
            "13  \n",
            "18  \n",
            "23  합 :  65\n"
          ]
        }
      ]
    },
    {
      "cell_type": "code",
      "source": [
        "import numpy as np\n",
        "rows, cols = (5,5)\n",
        "a = [[0 for i in range(cols)] for j in range(rows)]\n",
        "\n",
        "k=0\n",
        "for i in range(0,cols):\n",
        "  for j in range(0,rows):\n",
        "    a[i][j] = k\n",
        "\n",
        "num = 0\n",
        "x, y = 0,0\n",
        "for i in range(rows*cols - 1):\n",
        " for r in range(0,rows):\n",
        "   if a[x][r] == 0:\n",
        "     a[0][r] = num\n",
        "     num+=1\n",
        "   y+=1\n",
        "\n",
        "\n",
        "for i in range(0,rows):\n",
        "  print(\"\")\n",
        "  for j in range(0,cols):\n",
        "    print(a[i][j], end=' ')\n",
        "print('')\n",
        "\n",
        "\n"
      ],
      "metadata": {
        "colab": {
          "base_uri": "https://localhost:8080/"
        },
        "id": "1TVLiP_vmGUd",
        "outputId": "2ebbe608-1148-4de6-d9eb-e5229ee9dfca"
      },
      "execution_count": null,
      "outputs": [
        {
          "output_type": "stream",
          "name": "stdout",
          "text": [
            "\n",
            "5 1 2 3 4 \n",
            "0 0 0 0 0 \n",
            "0 0 0 0 0 \n",
            "0 0 0 0 0 \n",
            "0 0 0 0 0 \n"
          ]
        }
      ]
    },
    {
      "cell_type": "code",
      "source": [
        "import numpy as np\n",
        "rows, cols = (5,5)\n",
        "a = [[ 0 for i in range(cols)] for j in range(rows)]\n",
        "\n",
        "k=1\n",
        "for i in range(0,cols):\n",
        "  for j in range(0,rows):\n",
        "    a[i][j] = k\n",
        "    k+=1\n",
        "\n",
        "#알고리즘\n",
        "x = 0\n",
        "y = 0\n",
        "for i in range(0,5):\n",
        "  for x in range(0,5):\n",
        "    for y in range(0,5):\n",
        "      if x + y == i:\n",
        "        print(a[x][y], end = ' ')"
      ],
      "metadata": {
        "colab": {
          "base_uri": "https://localhost:8080/"
        },
        "id": "hPrTKUsGhmex",
        "outputId": "98411c4a-f0a1-480e-9921-73a5afc99d53"
      },
      "execution_count": null,
      "outputs": [
        {
          "output_type": "stream",
          "name": "stdout",
          "text": [
            "1 2 6 3 7 11 4 8 12 16 5 9 13 17 21 "
          ]
        }
      ]
    }
  ]
}